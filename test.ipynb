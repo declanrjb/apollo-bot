{
 "cells": [
  {
   "cell_type": "code",
   "execution_count": 380,
   "metadata": {},
   "outputs": [],
   "source": [
    "import requests\n",
    "import pandas as pd\n",
    "from bs4 import BeautifulSoup\n",
    "import datetime\n",
    "import re"
   ]
  },
  {
   "cell_type": "code",
   "execution_count": null,
   "metadata": {},
   "outputs": [],
   "source": [
    "apollo_tag = 'x03gq'.upper()"
   ]
  },
  {
   "cell_type": "code",
   "execution_count": 381,
   "metadata": {},
   "outputs": [],
   "source": [
    "def get_theaters(movie):\n",
    "    return [theater['th'] for theater in movie['theaters']]\n",
    "\n",
    "def at_apollo(movie):\n",
    "    return apollo_tag in get_theaters(movie)\n",
    "\n",
    "def apollo_start_date(movie):\n",
    "    for theater in movie['theaters']:\n",
    "        if theater['th'] == apollo_tag:\n",
    "            return theater['startDate']\n",
    "\n",
    "def simplify_trailer(trailers):\n",
    "    options = [link for link in trailers.values() if link is not None]\n",
    "    if len(options) >= 1:\n",
    "        return options[0]\n",
    "    else:\n",
    "        return None"
   ]
  },
  {
   "cell_type": "code",
   "execution_count": 382,
   "metadata": {},
   "outputs": [],
   "source": [
    "def get_screenings(movies):\n",
    "    movies = ['\"' + movie + '\"' for movie in movies]\n",
    "    headers = {\n",
    "        'content-type': 'text/plain;charset=UTF-8'\n",
    "    }\n",
    "\n",
    "    front_cutoff = '2000-01-01'\n",
    "    back_cutoff = '2050-01-01'\n",
    "\n",
    "    front_cutoff = datetime.datetime.strptime(front_cutoff, '%Y-%m-%d')\n",
    "    back_cutoff = datetime.datetime.strptime(back_cutoff, '%Y-%m-%d')\n",
    "\n",
    "    data = '{\"theaters\":[{\"id\":\"' + apollo_tag + '\"}],\"movieIds\":[' + ','.join(movies) + '],\"from\":\"' + front_cutoff.strftime(\"%Y-%m-%dT%H:%M:%S\") + '\",\"to\":\"' + back_cutoff.strftime(\"%Y-%m-%dT%H:%M:%S\") + '\"}'\n",
    "\n",
    "    response = requests.post(\n",
    "        'https://www.clevelandcinemas.com/api/gatsby-source-boxofficeapi/schedule',\n",
    "        cookies=cookies,\n",
    "        headers=headers,\n",
    "        data=data,\n",
    "    )\n",
    "\n",
    "    showtimes = response.json()\n",
    "    screenings = []\n",
    "    showtimes = showtimes[apollo_tag]['schedule']\n",
    "    for film_id in showtimes:\n",
    "        for date in showtimes[film_id].values():\n",
    "            for time in date:\n",
    "                screenings.append({\n",
    "                    'filmId': film_id,\n",
    "                    'datetime': time['startsAt']\n",
    "                })\n",
    "    return pd.DataFrame(screenings)"
   ]
  },
  {
   "cell_type": "code",
   "execution_count": null,
   "metadata": {},
   "outputs": [],
   "source": [
    "def screening_time(dt):\n",
    "    return dt.strftime('%-I:%M%p').lower()\n",
    "\n",
    "def showtimes_on_date(screenings, date):\n",
    "    screenings = screenings[screenings['datetime'].apply(lambda x: x.strftime('%Y-%m-%d') == date)]\n",
    "    return {\n",
    "        film: ', '.join(screenings[screenings['title'] == film]['datetime'].apply(screening_time))\n",
    "    for film in screenings['title']}"
   ]
  },
  {
   "cell_type": "code",
   "execution_count": 424,
   "metadata": {},
   "outputs": [],
   "source": [
    "def get_movie_headers():\n",
    "    headers = {\n",
    "        'referer': 'https://www.clevelandcinemas.com/our-locations/x03gq-apollo-theatre/'\n",
    "    }\n",
    "\n",
    "    response = requests.get('https://www.clevelandcinemas.com/page-data/sq/d/4263366313.json', headers=headers)\n",
    "\n",
    "    data = response.json()\n",
    "    data = data['data']\n",
    "    movies = data['allMovie']['nodes']\n",
    "\n",
    "    for movie in movies:\n",
    "        movie['at_apollo'] = at_apollo(movie)\n",
    "        if movie['at_apollo']:\n",
    "            movie['apolloStart'] = apollo_start_date(movie)\n",
    "            movie['trailer'] = simplify_trailer(movie['trailer'])\n",
    "    movies = [movie for movie in movies if movie['at_apollo']]\n",
    "\n",
    "    df = pd.DataFrame([{k: movie[k] for k in ['title', 'apolloStart', 'path', 'poster', 'trailer', 'at_apollo']} for movie in movies])\n",
    "\n",
    "    df['filmId'] = df['path'].apply(lambda url: re.search(r'movies/([0-9]+)-', url).group(1))\n",
    "    df = df[['title', 'apolloStart', 'trailer', 'filmId']]\n",
    "    return df"
   ]
  },
  {
   "cell_type": "code",
   "execution_count": 431,
   "metadata": {},
   "outputs": [],
   "source": [
    "def showtimes_in_range(start, end):\n",
    "    dates = [date.strftime('%Y-%m-%d') for date in pd.date_range(start, end)]\n",
    "\n",
    "    headers = get_movie_headers()\n",
    "    all_movies = headers['filmId'].unique()\n",
    "\n",
    "    screenings = get_screenings(all_movies)\n",
    "    screenings['datetime'] = screenings['datetime'].apply(lambda x: datetime.datetime.strptime(x, '%Y-%m-%dT%H:%M:%S'))\n",
    "\n",
    "    screenings = screenings.merge(headers[['title', 'trailer', 'filmId']], on='filmId')\n",
    "\n",
    "    return {date: showtimes_on_date(screenings, date) for date in dates}"
   ]
  },
  {
   "cell_type": "code",
   "execution_count": 432,
   "metadata": {},
   "outputs": [
    {
     "data": {
      "text/plain": [
       "{'2025-02-01': {'A Complete Unknown': '4:00pm, 7:00pm',\n",
       "  'Dog Man': '4:30pm, 7:15pm'},\n",
       " '2025-02-02': {'A Complete Unknown': '1:00pm, 4:00pm, 7:00pm',\n",
       "  'Dog Man': '1:30pm, 4:30pm, 7:15pm'},\n",
       " '2025-02-03': {'A Complete Unknown': '4:00pm, 7:00pm',\n",
       "  'Dog Man': '4:30pm, 7:15pm'},\n",
       " '2025-02-04': {'Blade Runner (1982)': '7:15pm',\n",
       "  'A Complete Unknown': '4:00pm',\n",
       "  'Dog Man': '4:30pm, 7:00pm'},\n",
       " '2025-02-05': {'A Complete Unknown': '4:00pm, 7:00pm',\n",
       "  'Dog Man': '4:30pm, 7:15pm'},\n",
       " '2025-02-06': {'A Complete Unknown': '4:00pm, 7:00pm',\n",
       "  'Dog Man': '4:30pm, 7:15pm'},\n",
       " '2025-02-07': {},\n",
       " '2025-02-08': {}}"
      ]
     },
     "execution_count": 432,
     "metadata": {},
     "output_type": "execute_result"
    }
   ],
   "source": [
    "showtimes_in_range(start, end)"
   ]
  },
  {
   "cell_type": "code",
   "execution_count": 384,
   "metadata": {},
   "outputs": [],
   "source": [
    "headers = {\n",
    "    'referer': 'https://www.clevelandcinemas.com/our-locations/x03gq-apollo-theatre/'\n",
    "}\n",
    "\n",
    "response = requests.get('https://www.clevelandcinemas.com/page-data/sq/d/4263366313.json', headers=headers)"
   ]
  },
  {
   "cell_type": "code",
   "execution_count": 385,
   "metadata": {},
   "outputs": [],
   "source": [
    "data = response.json()\n",
    "data = data['data']\n",
    "movies = data['allMovie']['nodes']"
   ]
  },
  {
   "cell_type": "code",
   "execution_count": 390,
   "metadata": {},
   "outputs": [],
   "source": [
    "start = '2025-02-01'\n",
    "end = '2025-02-08'\n",
    "\n",
    "start = datetime.datetime.strptime(start, '%Y-%m-%d')\n",
    "end = datetime.datetime.strptime(end, '%Y-%m-%d')"
   ]
  },
  {
   "cell_type": "code",
   "execution_count": 391,
   "metadata": {},
   "outputs": [],
   "source": [
    "for movie in movies:\n",
    "    movie['at_apollo'] = at_apollo(movie)\n",
    "    if movie['at_apollo']:\n",
    "        movie['apolloStart'] = apollo_start_date(movie)\n",
    "        movie['trailer'] = simplify_trailer(movie['trailer'])\n",
    "movies = [movie for movie in movies if movie['at_apollo']]"
   ]
  },
  {
   "cell_type": "code",
   "execution_count": 392,
   "metadata": {},
   "outputs": [],
   "source": [
    "df = pd.DataFrame([{k: movie[k] for k in ['title', 'apolloStart', 'path', 'poster', 'trailer', 'at_apollo']} for movie in movies])"
   ]
  },
  {
   "cell_type": "code",
   "execution_count": 393,
   "metadata": {},
   "outputs": [],
   "source": [
    "df['filmId'] = df['path'].apply(lambda url: re.search(r'movies/([0-9]+)-', url).group(1))\n",
    "df = df[['title', 'apolloStart', 'trailer', 'filmId']]"
   ]
  },
  {
   "cell_type": "code",
   "execution_count": 395,
   "metadata": {},
   "outputs": [],
   "source": [
    "all_movies = df['filmId'].unique()"
   ]
  },
  {
   "cell_type": "code",
   "execution_count": 396,
   "metadata": {},
   "outputs": [],
   "source": [
    "screenings = get_screenings(all_movies)"
   ]
  },
  {
   "cell_type": "code",
   "execution_count": 397,
   "metadata": {},
   "outputs": [],
   "source": [
    "screenings['datetime'] = screenings['datetime'].apply(lambda x: datetime.datetime.strptime(x, '%Y-%m-%dT%H:%M:%S'))"
   ]
  },
  {
   "cell_type": "code",
   "execution_count": 398,
   "metadata": {},
   "outputs": [],
   "source": [
    "screenings = screenings.merge(df[['title', 'trailer', 'filmId']], on='filmId')"
   ]
  },
  {
   "cell_type": "code",
   "execution_count": 419,
   "metadata": {},
   "outputs": [
    {
     "data": {
      "text/plain": [
       "{'A Complete Unknown': '4:00pm, 7:00pm', 'Dog Man': '4:30pm, 7:15pm'}"
      ]
     },
     "execution_count": 419,
     "metadata": {},
     "output_type": "execute_result"
    }
   ],
   "source": [
    "showtimes_on_date(screenings, '2025-02-01')"
   ]
  }
 ],
 "metadata": {
  "kernelspec": {
   "display_name": "Python 3",
   "language": "python",
   "name": "python3"
  },
  "language_info": {
   "codemirror_mode": {
    "name": "ipython",
    "version": 3
   },
   "file_extension": ".py",
   "mimetype": "text/x-python",
   "name": "python",
   "nbconvert_exporter": "python",
   "pygments_lexer": "ipython3",
   "version": "3.11.8"
  }
 },
 "nbformat": 4,
 "nbformat_minor": 2
}
