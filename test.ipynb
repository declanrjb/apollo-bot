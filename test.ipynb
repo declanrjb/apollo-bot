{
 "cells": [
  {
   "cell_type": "code",
   "execution_count": 20,
   "metadata": {},
   "outputs": [],
   "source": [
    "import requests\n",
    "import pandas as pd\n",
    "from bs4 import BeautifulSoup\n",
    "import datetime\n",
    "import re"
   ]
  },
  {
   "cell_type": "code",
   "execution_count": 21,
   "metadata": {},
   "outputs": [],
   "source": [
    "apollo_tag = 'x03gq'.upper()"
   ]
  },
  {
   "cell_type": "code",
   "execution_count": 22,
   "metadata": {},
   "outputs": [],
   "source": [
    "def get_theaters(movie):\n",
    "    return [theater['th'] for theater in movie['theaters']]\n",
    "\n",
    "def at_apollo(movie):\n",
    "    return apollo_tag in get_theaters(movie)\n",
    "\n",
    "def apollo_start_date(movie):\n",
    "    for theater in movie['theaters']:\n",
    "        if theater['th'] == apollo_tag:\n",
    "            return theater['startDate']\n",
    "\n",
    "def simplify_trailer(trailers):\n",
    "    options = [link for link in trailers.values() if link is not None]\n",
    "    if len(options) >= 1:\n",
    "        return options[0]\n",
    "    else:\n",
    "        return None"
   ]
  },
  {
   "cell_type": "code",
   "execution_count": 23,
   "metadata": {},
   "outputs": [],
   "source": [
    "def get_screenings(movies):\n",
    "    movies = ['\"' + movie + '\"' for movie in movies]\n",
    "    headers = {\n",
    "        'content-type': 'text/plain;charset=UTF-8'\n",
    "    }\n",
    "\n",
    "    front_cutoff = '2000-01-01'\n",
    "    back_cutoff = '2050-01-01'\n",
    "\n",
    "    front_cutoff = datetime.datetime.strptime(front_cutoff, '%Y-%m-%d')\n",
    "    back_cutoff = datetime.datetime.strptime(back_cutoff, '%Y-%m-%d')\n",
    "\n",
    "    data = '{\"theaters\":[{\"id\":\"' + apollo_tag + '\"}],\"movieIds\":[' + ','.join(movies) + '],\"from\":\"' + front_cutoff.strftime(\"%Y-%m-%dT%H:%M:%S\") + '\",\"to\":\"' + back_cutoff.strftime(\"%Y-%m-%dT%H:%M:%S\") + '\"}'\n",
    "\n",
    "    response = requests.post(\n",
    "        'https://www.clevelandcinemas.com/api/gatsby-source-boxofficeapi/schedule',\n",
    "        #cookies=cookies,\n",
    "        headers=headers,\n",
    "        data=data,\n",
    "    )\n",
    "\n",
    "    showtimes = response.json()\n",
    "    screenings = []\n",
    "    showtimes = showtimes[apollo_tag]['schedule']\n",
    "    for film_id in showtimes:\n",
    "        for date in showtimes[film_id].values():\n",
    "            for time in date:\n",
    "                screenings.append({\n",
    "                    'filmId': film_id,\n",
    "                    'datetime': time['startsAt']\n",
    "                })\n",
    "    return pd.DataFrame(screenings)"
   ]
  },
  {
   "cell_type": "code",
   "execution_count": 24,
   "metadata": {},
   "outputs": [],
   "source": [
    "def screening_time(dt):\n",
    "    return dt.strftime('%-I:%M%p').lower()\n",
    "\n",
    "def showtimes_on_date(screenings, date):\n",
    "    screenings = screenings[screenings['datetime'].apply(lambda x: x.strftime('%Y-%m-%d') == date)]\n",
    "    return {\n",
    "        film: ', '.join(screenings[screenings['title'] == film]['datetime'].apply(screening_time))\n",
    "    for film in screenings['title']}"
   ]
  },
  {
   "cell_type": "code",
   "execution_count": 25,
   "metadata": {},
   "outputs": [],
   "source": [
    "def get_movie_headers():\n",
    "    headers = {\n",
    "        'referer': 'https://www.clevelandcinemas.com/our-locations/x03gq-apollo-theatre/'\n",
    "    }\n",
    "\n",
    "    response = requests.get('https://www.clevelandcinemas.com/page-data/sq/d/4263366313.json', headers=headers)\n",
    "\n",
    "    data = response.json()\n",
    "    data = data['data']\n",
    "    movies = data['allMovie']['nodes']\n",
    "\n",
    "    for movie in movies:\n",
    "        movie['at_apollo'] = at_apollo(movie)\n",
    "        if movie['at_apollo']:\n",
    "            movie['apolloStart'] = apollo_start_date(movie)\n",
    "            movie['trailer'] = simplify_trailer(movie['trailer'])\n",
    "    movies = [movie for movie in movies if movie['at_apollo']]\n",
    "\n",
    "    df = pd.DataFrame([{k: movie[k] for k in ['title', 'apolloStart', 'path', 'poster', 'trailer', 'at_apollo']} for movie in movies])\n",
    "\n",
    "    df['filmId'] = df['path'].apply(lambda url: re.search(r'movies/([0-9]+)-', url).group(1))\n",
    "    df = df[['title', 'apolloStart', 'trailer', 'filmId']]\n",
    "    return df"
   ]
  },
  {
   "cell_type": "code",
   "execution_count": 26,
   "metadata": {},
   "outputs": [],
   "source": [
    "def showtimes_in_range(start, end):\n",
    "    dates = [date.strftime('%Y-%m-%d') for date in pd.date_range(start, end)]\n",
    "    headers = get_movie_headers()\n",
    "    all_movies = headers['filmId'].unique()\n",
    "\n",
    "    screenings = get_screenings(all_movies)\n",
    "    screenings['datetime'] = screenings['datetime'].apply(lambda x: datetime.datetime.strptime(x, '%Y-%m-%dT%H:%M:%S'))\n",
    "\n",
    "    screenings = screenings.merge(headers[['title', 'trailer', 'filmId']], on='filmId')\n",
    "    return {date: showtimes_on_date(screenings, date) for date in dates}"
   ]
  },
  {
   "cell_type": "code",
   "execution_count": 27,
   "metadata": {},
   "outputs": [],
   "source": [
    "def format_response(screenings):\n",
    "    response = ''\n",
    "    for day, showtimes in screenings.items():\n",
    "        if len(showtimes) > 0:\n",
    "            day = datetime.datetime.strptime(day, '%Y-%m-%d')\n",
    "            response += f\"-- {day.strftime('%a, %b. %-d')} --\\n\"\n",
    "            for film, times in showtimes.items():\n",
    "                response += f'**{film}**: {times}\\n'\n",
    "            response += '\\n'\n",
    "    return response.strip()"
   ]
  },
  {
   "cell_type": "code",
   "execution_count": 28,
   "metadata": {},
   "outputs": [],
   "source": [
    "def date_for_day(target):\n",
    "    week = pd.date_range(datetime.datetime.today(), datetime.datetime.today() + datetime.timedelta(days=6))\n",
    "    for day in week:\n",
    "        if day.strftime('%A') == target:\n",
    "            return day.strftime('%Y-%m-%d')"
   ]
  }
 ],
 "metadata": {
  "kernelspec": {
   "display_name": "Python 3",
   "language": "python",
   "name": "python3"
  },
  "language_info": {
   "codemirror_mode": {
    "name": "ipython",
    "version": 3
   },
   "file_extension": ".py",
   "mimetype": "text/x-python",
   "name": "python",
   "nbconvert_exporter": "python",
   "pygments_lexer": "ipython3",
   "version": "3.11.8"
  }
 },
 "nbformat": 4,
 "nbformat_minor": 2
}
